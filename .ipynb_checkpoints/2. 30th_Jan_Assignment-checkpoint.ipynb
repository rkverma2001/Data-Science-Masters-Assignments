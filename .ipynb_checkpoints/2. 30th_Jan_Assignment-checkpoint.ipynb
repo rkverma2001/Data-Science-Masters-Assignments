{
 "cells": [
  {
   "cell_type": "markdown",
   "id": "a8407df0",
   "metadata": {},
   "source": [
    "##  1. Write a program to accept percentage from the user and display the grade according to the following criteria:\n",
    "| Marks | Grade |\n",
    "|:---------------|:--------|\n",
    "|>90 |A |\n",
    "|>80 and <=90 |B |\n",
    "|>=60 and <=80 |C |\n",
    "|below 60 |D |\n"
   ]
  },
  {
   "cell_type": "code",
   "execution_count": 4,
   "id": "ec0396ac",
   "metadata": {},
   "outputs": [
    {
     "name": "stdout",
     "output_type": "stream",
     "text": [
      "Input the percentage:79\n",
      "C\n"
     ]
    }
   ],
   "source": [
    "a = int(input(\"Input the percentage:\"))\n",
    "if a>90:\n",
    "    print(\"A\")\n",
    "elif a>80 and a<=90:\n",
    "    print(\"B\")\n",
    "elif a>=60 and a<=80:\n",
    "    print(\"C\")\n",
    "else:\n",
    "    print(\"D\")"
   ]
  },
  {
   "cell_type": "markdown",
   "id": "beaa0a07",
   "metadata": {},
   "source": [
    "##  2. Write a program to accept the cost price of a bike and display the road tax to be paid according to the following criteria:\n",
    "| Tax | Cost Price(in Rs) |\n",
    "|:-------------------|:-------------------|\n",
    "|15% |>100000 |\n",
    "|10% |>50000 and <=100000 |\n",
    "|5% |<=50000 |"
   ]
  },
  {
   "cell_type": "code",
   "execution_count": 7,
   "id": "3084f1bd",
   "metadata": {},
   "outputs": [
    {
     "name": "stdout",
     "output_type": "stream",
     "text": [
      "Input the cost price of bike:65000\n",
      "10%\n"
     ]
    }
   ],
   "source": [
    "cost_price = int(input(\"Input the cost price of bike:\"))\n",
    "if cost_price>100000:\n",
    "    print(\"15%\")\n",
    "elif cost_price>50000 and cost_price<=100000:\n",
    "    print(\"10%\")\n",
    "else:\n",
    "    print(\"5%\")"
   ]
  },
  {
   "cell_type": "markdown",
   "id": "fd807137",
   "metadata": {},
   "source": [
    "##  3. Accept any city from the user and display monuments of that city:\n",
    "| City | Monument |\n",
    "|:-------------------|:-------------------|\n",
    "|Delhi |Red Fort |\n",
    "|Agra |Taj Mahal |\n",
    "|Jaipur |Jal Mahal |"
   ]
  },
  {
   "cell_type": "code",
   "execution_count": 10,
   "id": "e4fd2cc4",
   "metadata": {},
   "outputs": [
    {
     "name": "stdout",
     "output_type": "stream",
     "text": [
      "Enter the City:Jaipur\n",
      "Jal Mahal\n"
     ]
    }
   ],
   "source": [
    "city = input(\"Enter the City:\")\n",
    "if city == \"Delhi\":\n",
    "    print(\"Red Fort\")\n",
    "elif city == \"Agra\":\n",
    "    print(\"Taj Mahal\")\n",
    "elif city == \"Jaipur\":\n",
    "    print(\"Jal Mahal\")\n"
   ]
  },
  {
   "cell_type": "markdown",
   "id": "41093823",
   "metadata": {},
   "source": [
    "## 4. Check how many times a given number can be divided by 3 before it is less than or equal to 10."
   ]
  },
  {
   "cell_type": "code",
   "execution_count": 11,
   "id": "56c0c6e9",
   "metadata": {},
   "outputs": [
    {
     "name": "stdout",
     "output_type": "stream",
     "text": [
      "Enter the number:40\n",
      "2\n"
     ]
    }
   ],
   "source": [
    "num = int(input(\"Enter the number:\"))\n",
    "count=0\n",
    "while num > 10:\n",
    "    num = num / 3\n",
    "    count = count + 1\n",
    "\n",
    "print(count)"
   ]
  },
  {
   "cell_type": "markdown",
   "id": "d806098b",
   "metadata": {},
   "source": [
    "## 5. Why and When to Use while Loop in Python give a detailed description with example. "
   ]
  },
  {
   "cell_type": "markdown",
   "id": "072a793e",
   "metadata": {},
   "source": [
    "##### A while loop is a control flow statement in Python that allows code to be executed repeatedly while a particular condition is true. \n",
    "##### The loop continues to execute as long as the condition is true, and it terminates when the condition becomes false.\n",
    "##### The general syntax of a while loop in Python is as follows:\n",
    "\n",
    "##### while condition:\n",
    "#####     # execute code block\n",
    "    \n",
    "##### The condition is a Boolean expression that is evaluated at the start of each iteration of the loop.\n",
    "##### If the condition is True, the code block is executed.\n",
    "##### If the condition is False, the loop is terminated, and control passes to the next statement in the program.\n",
    "\n",
    "##### Here are some examples of when and why to use while loops in Python:\n",
    "\n",
    "##### Repeating a block of code until a condition is met:\n",
    "##### Suppose you want to prompt the user to enter a positive integer and keep prompting until they do so.\n",
    "##### You can use a while loop to achieve this:\n",
    "\n",
    "##### num = -1\n",
    "##### while num < 0:\n",
    "#####     num = int(input(\"Enter a positive integer: \"))\n",
    "    \n",
    "##### The loop will keep executing as long as the value of num is negative.\n",
    "##### When the user enters a positive integer, the condition becomes false, and the loop terminates.\n",
    "\n",
    "##### Processing items in a list or other sequence:\n",
    "\n",
    "##### You can use a while loop to process each item in a list or other sequence.\n",
    "##### ex: suppose you have a list of integers, and you want to compute the sum of all the even numbers in the list:\n",
    "\n",
    "##### numbers = [1, 2, 3, 4, 5, 6, 7, 8, 9, 10]\n",
    "##### total = 0\n",
    "##### i = 0\n",
    "##### while i < len(numbers):\n",
    "#####     if numbers[i] % 2 == 0:\n",
    "#####         total += numbers[i]\n",
    "#####     i += 1\n",
    "##### print(\"The sum of the even numbers is\", total)\n",
    "\n",
    "##### In this example, the loop iterates over each item in the list, and if the item is even, it adds it to the total.\n",
    "\n",
    "##### In conclusion, while loops are an essential part of Python programming that allow you to execute code repeatedly while a certain condition is true. \n",
    "##### They are useful for a variety of tasks, including repeating a block of code until a condition is met, processing items in a list or other sequence, and running a game or simulation."
   ]
  },
  {
   "cell_type": "markdown",
   "id": "37ecc0ed",
   "metadata": {},
   "source": [
    "## 6. Use nested while loop to print 3 different pattern. "
   ]
  },
  {
   "cell_type": "raw",
   "id": "bf11d1c2",
   "metadata": {},
   "source": [
    "Pattern 1:\n",
    "\n",
    "*\n",
    "**\n",
    "***\n",
    "****\n",
    "*****"
   ]
  },
  {
   "cell_type": "code",
   "execution_count": 4,
   "id": "3978b177",
   "metadata": {},
   "outputs": [
    {
     "name": "stdout",
     "output_type": "stream",
     "text": [
      "Enter the number:5\n",
      "*\n",
      "**\n",
      "***\n",
      "****\n",
      "*****\n"
     ]
    }
   ],
   "source": [
    "stars = int(input(\"Enter the number:\"))\n",
    "i=1\n",
    "while i<=stars:\n",
    "    j=1\n",
    "    while j<=i:\n",
    "        print(\"*\",end='')\n",
    "        j = j+1\n",
    "    print()\n",
    "    i = i+1"
   ]
  },
  {
   "cell_type": "raw",
   "id": "e962033e",
   "metadata": {},
   "source": [
    "Pattern 2:\n",
    "\n",
    "    *\n",
    "   ***\n",
    "  *****\n",
    " *******\n",
    "*********"
   ]
  },
  {
   "cell_type": "code",
   "execution_count": 6,
   "id": "723b9fa0",
   "metadata": {},
   "outputs": [
    {
     "name": "stdout",
     "output_type": "stream",
     "text": [
      "Enter the number:5\n",
      "    *\n",
      "   ***\n",
      "  *****\n",
      " *******\n",
      "*********\n"
     ]
    }
   ],
   "source": [
    "n = int(input(\"Enter the number:\"))\n",
    "i=1\n",
    "while i<=n:\n",
    "    spaces = 1\n",
    "    while spaces<=n-i:\n",
    "        print(\" \", end ='')\n",
    "        spaces = spaces + 1\n",
    "    stars = 1\n",
    "    while stars<=2*i-1:\n",
    "        print(\"*\",end='')\n",
    "        stars = stars + 1\n",
    "    print()\n",
    "    i = i + 1"
   ]
  },
  {
   "cell_type": "raw",
   "id": "4301f6a9",
   "metadata": {},
   "source": [
    "Pattern 3:\n",
    "\n",
    "*       *\n",
    "**     **\n",
    "***   ***\n",
    "**** ****\n",
    "*********"
   ]
  },
  {
   "cell_type": "code",
   "execution_count": 7,
   "id": "ef35615f",
   "metadata": {},
   "outputs": [
    {
     "name": "stdout",
     "output_type": "stream",
     "text": [
      "Enter the number:5\n",
      "*        *\n",
      "**      **\n",
      "***    ***\n",
      "****  ****\n",
      "**********\n"
     ]
    }
   ],
   "source": [
    "n = int(input(\"Enter the number:\"))\n",
    "i = 1\n",
    "while i<=n:\n",
    "    j = 1\n",
    "    while j<=i:\n",
    "        print(\"*\",end='')\n",
    "        j = j + 1\n",
    "    k = 1\n",
    "    while k<=2*(n-i):\n",
    "        print(\" \",end='')\n",
    "        k = k + 1\n",
    "    l = 1\n",
    "    while l<=i:\n",
    "        print(\"*\",end='')\n",
    "        l = l + 1\n",
    "    print()\n",
    "    i = i + 1"
   ]
  },
  {
   "cell_type": "markdown",
   "id": "aa84944e",
   "metadata": {},
   "source": [
    "## 7. Reverse a while loop to display numbers from 10 to 1."
   ]
  },
  {
   "cell_type": "code",
   "execution_count": 1,
   "id": "a10b827a",
   "metadata": {},
   "outputs": [
    {
     "name": "stdout",
     "output_type": "stream",
     "text": [
      "10\n",
      "9\n",
      "8\n",
      "7\n",
      "6\n",
      "5\n",
      "4\n",
      "3\n",
      "2\n",
      "1\n"
     ]
    }
   ],
   "source": [
    "num = 10\n",
    "while num>=1:\n",
    "    print(num)\n",
    "    num = num -1"
   ]
  },
  {
   "cell_type": "markdown",
   "id": "27040b2e",
   "metadata": {},
   "source": [
    "## 8. Reverse a while loop to display numbers from 10 to 1. "
   ]
  },
  {
   "cell_type": "code",
   "execution_count": 2,
   "id": "d38c4a61",
   "metadata": {},
   "outputs": [
    {
     "name": "stdout",
     "output_type": "stream",
     "text": [
      "10\n",
      "9\n",
      "8\n",
      "7\n",
      "6\n",
      "5\n",
      "4\n",
      "3\n",
      "2\n",
      "1\n"
     ]
    }
   ],
   "source": [
    "num = 10\n",
    "while num>=1:\n",
    "    print(num)\n",
    "    num = num -1"
   ]
  }
 ],
 "metadata": {
  "kernelspec": {
   "display_name": "Python 3 (ipykernel)",
   "language": "python",
   "name": "python3"
  },
  "language_info": {
   "codemirror_mode": {
    "name": "ipython",
    "version": 3
   },
   "file_extension": ".py",
   "mimetype": "text/x-python",
   "name": "python",
   "nbconvert_exporter": "python",
   "pygments_lexer": "ipython3",
   "version": "3.9.13"
  }
 },
 "nbformat": 4,
 "nbformat_minor": 5
}
