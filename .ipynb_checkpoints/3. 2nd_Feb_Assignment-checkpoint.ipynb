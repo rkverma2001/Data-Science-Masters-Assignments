{
 "cells": [
  {
   "cell_type": "markdown",
   "id": "ece1b45b",
   "metadata": {},
   "source": [
    "### 1. What are the characteristics of the tuples? Is tuple immutable? "
   ]
  },
  {
   "cell_type": "markdown",
   "id": "f7a6315b",
   "metadata": {},
   "source": [
    "#### Ans. In Python programming language, a tuple is an ordered collection of elements that is immutable, meaning it cannot be changed after it is created. Here are some characteristics of tuples:\n",
    "\n",
    "#### (i) Ordered: The elements in a tuple are ordered, meaning they have a specific position or index within the tuple.\n",
    "\n",
    "#### (ii) Immutable: Once a tuple is created, its elements cannot be modified. This means that you cannot add, remove, or change elements in a tuple.\n",
    "\n",
    "#### (iii) Heterogeneous: A tuple can contain elements of different data types, including integers, floats, strings, and other data structures.\n",
    "\n",
    "#### (iv) Indexed: Each element in a tuple can be accessed by its index, which starts from 0.\n",
    "\n",
    "#### (v) Iterable: A tuple can be used in a loop or other iterable context, such as a list comprehension.\n",
    "\n",
    "#### (vi) Nestable: Tuples can be nested inside other tuples, allowing for the creation of more complex data structures.\n",
    "\n",
    "#### In the end, tuples are useful when you need to store a collection of values that should not be modified once they are created. They are often used to represent fixed data structures, such as the coordinates of a point in space or the RGB values of a color."
   ]
  },
  {
   "cell_type": "markdown",
   "id": "a4f7e21c",
   "metadata": {},
   "source": [
    "### 2. What are the two tuple methods in python? Give an example of each method. Give a reason why tuple have only two in-built methods as compared to Lists."
   ]
  },
  {
   "cell_type": "markdown",
   "id": "b4fb174c",
   "metadata": {},
   "source": [
    "#### Ans. In Python, tuples have two in-built methods:\n",
    "\n",
    "#### (i) count(): The count() method returns the number of times a specified element appears in a tuple.\n",
    "#### Ex:"
   ]
  },
  {
   "cell_type": "code",
   "execution_count": 3,
   "id": "02fea7e5",
   "metadata": {},
   "outputs": [
    {
     "name": "stdout",
     "output_type": "stream",
     "text": [
      "3\n"
     ]
    }
   ],
   "source": [
    " tuple = (1, 2, 3, 2, 4, 2, 5)\n",
    " count_of_two = tuple.count(2)\n",
    " print(count_of_two)"
   ]
  },
  {
   "cell_type": "markdown",
   "id": "f332445c",
   "metadata": {},
   "source": [
    "#### (ii) index(): The index() method returns the index of the first occurrence of a specified element in a tuple.\n",
    "#### Ex:"
   ]
  },
  {
   "cell_type": "code",
   "execution_count": 4,
   "id": "da7fd0a0",
   "metadata": {},
   "outputs": [
    {
     "name": "stdout",
     "output_type": "stream",
     "text": [
      "4\n"
     ]
    }
   ],
   "source": [
    "tuple = (1, 2, 3, 2, 4, 2, 5)\n",
    "index_of_four = tuple.index(4)\n",
    "print(index_of_four)"
   ]
  },
  {
   "cell_type": "markdown",
   "id": "4598a898",
   "metadata": {},
   "source": [
    "#### The reason why tuples have only two built-in methods as compared to lists because: \n",
    "#### Tuples are immutable, while lists are mutable. Tuples cannot be modified after they are created, there is no need for methods that modify the tuple in-place, such as append(), insert(), or remove(). Therefore, the count() and index() methods are sufficient for working with tuples. In contrast, lists have many built-in methods to modify them, as well as additional methods to sort, search, and manipulate their contents."
   ]
  },
  {
   "cell_type": "markdown",
   "id": "8ba61a56",
   "metadata": {},
   "source": [
    "### 3. Which collection datatypes in python do not allow duplicate items? Write a code using a set to remove duplicates from the given list.\n",
    "### List = [1, 1, 1, 2, 1, 3, 1, 4, 2, 1, 2, 2, 2, 3, 2, 4, 3, 1, 3, 2, 3, 3, 3, 4, 4, 1, 4, 2, 4, 3, 4, 4]"
   ]
  },
  {
   "cell_type": "markdown",
   "id": "272f1467",
   "metadata": {},
   "source": [
    "#### Ans. The collection datatype in Python that does not allow duplicate items is  set.\n",
    "\n",
    "#### Here's how you can use a set to remove duplicates from the given list:"
   ]
  },
  {
   "cell_type": "code",
   "execution_count": 5,
   "id": "f2eaccd9",
   "metadata": {},
   "outputs": [
    {
     "name": "stdout",
     "output_type": "stream",
     "text": [
      "[1, 2, 3, 4]\n"
     ]
    }
   ],
   "source": [
    "lst = [1, 1, 1, 2, 1, 3, 1, 4, 2, 1, 2, 2, 2, 3, 2, 4, 3, 1, 3, 2, 3, 3, 3, 4, 4, 1, 4, 2, 4, 3, 4, 4]\n",
    "st = set(lst)\n",
    "new_lst = list(st)\n",
    "print(new_lst)"
   ]
  },
  {
   "cell_type": "markdown",
   "id": "047e02f5",
   "metadata": {},
   "source": [
    "### 4. Explain the difference between the union() and update() methods for a set. Give an example of each method."
   ]
  },
  {
   "cell_type": "markdown",
   "id": "f1bd1d67",
   "metadata": {},
   "source": [
    "#### Ans. In Python, the union() and update() methods are used to combine two or more sets into a new set. However, these methods differ in how they create the new set and modify the existing set(s).\n",
    "\n",
    "#### (i) The union() method returns a new set that contains all the unique elements from all the sets that were combined, without modifying the original sets.\n",
    "#### Ex:"
   ]
  },
  {
   "cell_type": "code",
   "execution_count": 6,
   "id": "90bd7a97",
   "metadata": {},
   "outputs": [
    {
     "name": "stdout",
     "output_type": "stream",
     "text": [
      "{1, 2, 3, 4, 5, 6, 7}\n",
      "{1, 2, 3}\n"
     ]
    }
   ],
   "source": [
    "set1 = {1, 2, 3}\n",
    "set2 = {3, 4, 5}\n",
    "set3 = {5, 6, 7}\n",
    "\n",
    "new_set = set1.union(set2, set3)\n",
    "\n",
    "print(new_set)\n",
    "print(set1)"
   ]
  },
  {
   "cell_type": "markdown",
   "id": "30e96eb6",
   "metadata": {},
   "source": [
    "#### In the above example, we have three sets set1, set2, and set3. We use the union() method to combine all three sets into a new set new_set. The resulting set contains all the unique elements from all the sets, and the original sets are not modified.\n",
    "\n",
    "#### (ii) The update() method modifies the original set by adding all the unique elements from other sets to the original set.\n",
    "#### Ex:"
   ]
  },
  {
   "cell_type": "code",
   "execution_count": 7,
   "id": "9c44fd55",
   "metadata": {},
   "outputs": [
    {
     "name": "stdout",
     "output_type": "stream",
     "text": [
      "{1, 2, 3, 4, 5, 6, 7}\n"
     ]
    }
   ],
   "source": [
    "set1 = {1, 2, 3}\n",
    "set2 = {3, 4, 5}\n",
    "set3 = {5, 6, 7}\n",
    "\n",
    "set1.update(set2, set3)\n",
    "\n",
    "print(set1)"
   ]
  },
  {
   "cell_type": "markdown",
   "id": "a4d3e244",
   "metadata": {},
   "source": [
    "#### In the above example, we have three sets: set1, set2, and set3. We use the update() method to add all the unique elements from set2 and set3 to set1. The resulting set set1 contains all the unique elements from all three sets.\n",
    "\n",
    "#### To summarize, the union() method returns a new set without modifying the original sets, while the update() method modifies the original set by adding all the unique elements from other sets to it."
   ]
  },
  {
   "cell_type": "markdown",
   "id": "2328894d",
   "metadata": {},
   "source": [
    "### 5. What is dictionary? Give an example. Also, state whether a dictionary is ordered or unordered."
   ]
  },
  {
   "cell_type": "markdown",
   "id": "8ea90f2c",
   "metadata": {},
   "source": [
    "#### Ans. A dictionary is a collection of data that stores key-value pairs, where each key is unique and maps to a corresponding value. In Python, dictionaries are denoted by curly braces {} and can be created using the syntax {key1: value1, key2: value2, ...}.\n",
    "\n",
    "#### Here's an example of a dictionary in Python:"
   ]
  },
  {
   "cell_type": "code",
   "execution_count": 9,
   "id": "949c830b",
   "metadata": {},
   "outputs": [],
   "source": [
    "person = {'name': 'Ritesh', 'age': 22, 'occupation': 'engineer'}"
   ]
  },
  {
   "cell_type": "code",
   "execution_count": 10,
   "id": "d78af697",
   "metadata": {
    "scrolled": true
   },
   "outputs": [
    {
     "data": {
      "text/plain": [
       "{'name': 'Ritesh', 'age': 22, 'occupation': 'engineer'}"
      ]
     },
     "execution_count": 10,
     "metadata": {},
     "output_type": "execute_result"
    }
   ],
   "source": [
    "person"
   ]
  },
  {
   "cell_type": "markdown",
   "id": "051c16c9",
   "metadata": {},
   "source": [
    "#### In this example, the keys are 'name', 'age', and 'occupation', and their corresponding values are 'Ritesh', 22, and 'engineer' respectively.\n",
    "\n",
    "#### Dictionaries are unordered in Python, which means that the items in the dictionary are not stored in any particular order. The order of items may change when the dictionary is modified, and you cannot rely on the order of items when accessing them."
   ]
  },
  {
   "cell_type": "markdown",
   "id": "3b10cf0c",
   "metadata": {},
   "source": [
    "### 6. Can we create a nested dictionary? If so, please give an example by creating a simple one-level nested dictionary."
   ]
  },
  {
   "cell_type": "markdown",
   "id": "b62760a5",
   "metadata": {},
   "source": [
    "#### Ans. Yes, we can create a nested dictionary in Python. A nested dictionary is a dictionary that contains one or more dictionaries as values. Here's an example of a simple one-level nested dictionary in Python:"
   ]
  },
  {
   "cell_type": "code",
   "execution_count": 13,
   "id": "2c9a67a0",
   "metadata": {},
   "outputs": [],
   "source": [
    "person2 = {\n",
    "    'name': 'Ritesh',\n",
    "    'age': 22,\n",
    "    'occupation': 'engineer',\n",
    "    'contact': {\n",
    "        'email': 'riteshkumarverma2018@gmail.com',\n",
    "        'phone': '6734382394'\n",
    "    }\n",
    "}"
   ]
  },
  {
   "cell_type": "code",
   "execution_count": 14,
   "id": "6e703aca",
   "metadata": {},
   "outputs": [
    {
     "data": {
      "text/plain": [
       "{'name': 'Ritesh',\n",
       " 'age': 22,\n",
       " 'occupation': 'engineer',\n",
       " 'contact': {'email': 'riteshkumarverma2018@gmail.com', 'phone': '6734382394'}}"
      ]
     },
     "execution_count": 14,
     "metadata": {},
     "output_type": "execute_result"
    }
   ],
   "source": [
    "person2"
   ]
  },
  {
   "cell_type": "markdown",
   "id": "9d7b67a6",
   "metadata": {},
   "source": [
    "#### In this example, the person dictionary contains a nested dictionary contact, which contains the person's email, and phone number. To access an item in the nested dictionary, we can use the key of the outer dictionary followed by the key of the inner dictionary, separated by a dot. For example, to access the person's email, we can use person ['contact']['email']."
   ]
  },
  {
   "cell_type": "code",
   "execution_count": 28,
   "id": "d006d290",
   "metadata": {},
   "outputs": [
    {
     "data": {
      "text/plain": [
       "'riteshkumarverma2018@gmail.com'"
      ]
     },
     "execution_count": 28,
     "metadata": {},
     "output_type": "execute_result"
    }
   ],
   "source": [
    "person2.get('contact').get('email')"
   ]
  },
  {
   "cell_type": "markdown",
   "id": "23f77b65",
   "metadata": {},
   "source": [
    "### 7. Using setdefault() method, create key named topics in the given dictionary and also add the value of the key as this list['Python', 'Machine Learning', 'Deep Learning'].\n",
    "### dict1 = ['language':'Python','course':'Data Science Masters']"
   ]
  },
  {
   "cell_type": "markdown",
   "id": "0b9ec3eb",
   "metadata": {},
   "source": [
    "#### Ans."
   ]
  },
  {
   "cell_type": "code",
   "execution_count": 29,
   "id": "6ee58197",
   "metadata": {},
   "outputs": [
    {
     "data": {
      "text/plain": [
       "['Python', 'Machine Learning', 'Deep Learning']"
      ]
     },
     "execution_count": 29,
     "metadata": {},
     "output_type": "execute_result"
    }
   ],
   "source": [
    "dict1 = {'language': 'Python', 'course': 'Data Science Masters'}\n",
    "dict1.setdefault('topics', ['Python', 'Machine Learning', 'Deep Learning'])"
   ]
  },
  {
   "cell_type": "code",
   "execution_count": 30,
   "id": "a798974b",
   "metadata": {},
   "outputs": [
    {
     "data": {
      "text/plain": [
       "{'language': 'Python',\n",
       " 'course': 'Data Science Masters',\n",
       " 'topics': ['Python', 'Machine Learning', 'Deep Learning']}"
      ]
     },
     "execution_count": 30,
     "metadata": {},
     "output_type": "execute_result"
    }
   ],
   "source": [
    "dict1\n"
   ]
  },
  {
   "cell_type": "markdown",
   "id": "2c984a6e",
   "metadata": {},
   "source": [
    "### 8. What are the three view objects in dictionaries? Use the three in-built methods in python to display these three view objects for the given dictionary.\n",
    "### dict1 = { 'Sport':'Cricket','Teams':['India','Australia','England','South Africa','Sri Lanka'.'New Zealand']}"
   ]
  },
  {
   "cell_type": "markdown",
   "id": "f2b50d39",
   "metadata": {},
   "source": [
    "#### In Python, there are three view objects associated with dictionaries:\n",
    "\n",
    "#### (i) dict_keys: This is a view object that contains the keys of the dictionary.\n",
    "\n",
    "#### (ii) dict_values: This is a view object that contains the values of the dictionary.\n",
    "\n",
    "#### (iii) dict_items: This is a view object that contains the key-value pairs of the dictionary as tuples.\n",
    "\n",
    "#### We can use the three built-in methods in Python to display three view objects for the given dictionary dict1:"
   ]
  },
  {
   "cell_type": "code",
   "execution_count": 32,
   "id": "74c8bac7",
   "metadata": {},
   "outputs": [],
   "source": [
    "dict1 = {'Sport': 'Cricket', 'Teams': ['India', 'Australia', 'England', 'South Africa', 'Sri Lanka', 'New Zealand']}"
   ]
  },
  {
   "cell_type": "code",
   "execution_count": 33,
   "id": "3bcf9532",
   "metadata": {},
   "outputs": [
    {
     "name": "stdout",
     "output_type": "stream",
     "text": [
      "dict_keys object: dict_keys(['Sport', 'Teams'])\n"
     ]
    }
   ],
   "source": [
    "# Display dict_keys object\n",
    "keys_view = dict1.keys()\n",
    "print(\"dict_keys object:\", keys_view)"
   ]
  },
  {
   "cell_type": "code",
   "execution_count": 34,
   "id": "786947d6",
   "metadata": {},
   "outputs": [
    {
     "name": "stdout",
     "output_type": "stream",
     "text": [
      "dict_values object: dict_values(['Cricket', ['India', 'Australia', 'England', 'South Africa', 'Sri Lanka', 'New Zealand']])\n"
     ]
    }
   ],
   "source": [
    "# Display dict_values object\n",
    "values_view = dict1.values()\n",
    "print(\"dict_values object:\", values_view)"
   ]
  },
  {
   "cell_type": "code",
   "execution_count": 35,
   "id": "782f3624",
   "metadata": {},
   "outputs": [
    {
     "name": "stdout",
     "output_type": "stream",
     "text": [
      "dict_items object: dict_items([('Sport', 'Cricket'), ('Teams', ['India', 'Australia', 'England', 'South Africa', 'Sri Lanka', 'New Zealand'])])\n"
     ]
    }
   ],
   "source": [
    "# Display dict_items object\n",
    "items_view = dict1.items()\n",
    "print(\"dict_items object:\", items_view)"
   ]
  }
 ],
 "metadata": {
  "kernelspec": {
   "display_name": "Python 3 (ipykernel)",
   "language": "python",
   "name": "python3"
  },
  "language_info": {
   "codemirror_mode": {
    "name": "ipython",
    "version": 3
   },
   "file_extension": ".py",
   "mimetype": "text/x-python",
   "name": "python",
   "nbconvert_exporter": "python",
   "pygments_lexer": "ipython3",
   "version": "3.9.13"
  }
 },
 "nbformat": 4,
 "nbformat_minor": 5
}
