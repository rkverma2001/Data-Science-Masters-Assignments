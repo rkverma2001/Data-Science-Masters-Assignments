{
 "cells": [
  {
   "cell_type": "markdown",
   "id": "6a95f55a",
   "metadata": {},
   "source": [
    "### 1. You are writing code for a company. The requirement of the company is that you create a python function that will check whether the password entered by the user is correct or not. The function should take the password as input and return the string “Valid Password” if the entered password follows the below-given password guidelines else it should return “Invalid Password”.\n",
    "### Note: 1. The Password should contain at least two uppercase letters and at least two lowercase letters.\n",
    "### 2. The Password should contain at least a number and three special characters.\n",
    "### 3. The length of the password should be 10 characters long."
   ]
  },
  {
   "cell_type": "code",
   "execution_count": 7,
   "id": "37c1e72d",
   "metadata": {},
   "outputs": [],
   "source": [
    "def password_check(str):\n",
    "    \n",
    "  if len(str) < 10:\n",
    "    return \"Invalid Password\"\n",
    "\n",
    "  countUpper = 0\n",
    "  for i in str:\n",
    "    if i.isupper():\n",
    "        countUpper += 1\n",
    "\n",
    "  if countUpper < 2:\n",
    "    return \"Invalid Password\"\n",
    "\n",
    "  countLower = 0\n",
    "  for i in str:\n",
    "    if i.islower():\n",
    "      countLower += 1\n",
    "\n",
    "  if countLower < 2:\n",
    "    return \"Invalid Password\"\n",
    "\n",
    "  countNum = 0\n",
    "  for i in str:\n",
    "    if i.isdigit():\n",
    "      countNum += 1\n",
    "\n",
    "  if countNum < 1:\n",
    "    return \"Invalid Password\"\n",
    "\n",
    "  countSpecial = 0\n",
    "  for i in str:\n",
    "    if not i.isalnum():\n",
    "      countSpecial += 1\n",
    "\n",
    "  if countSpecial < 3:\n",
    "    return \"Invalid Password\"\n",
    "\n",
    "  return \"Valid Password\"\n"
   ]
  },
  {
   "cell_type": "code",
   "execution_count": 8,
   "id": "68b8c05c",
   "metadata": {},
   "outputs": [
    {
     "name": "stdout",
     "output_type": "stream",
     "text": [
      "The password is valid.\n"
     ]
    }
   ],
   "source": [
    "password = \"Ritesh@123#$%erRT\"\n",
    "\n",
    "if password_check(password) == \"Valid Password\":\n",
    "  print(\"The password is valid.\")\n",
    "else:\n",
    "  print(\"The password is invalid.\")\n"
   ]
  },
  {
   "cell_type": "markdown",
   "id": "5f5a4717",
   "metadata": {},
   "source": [
    "### 2. Solve the below-given questions using at least one of the following:\n",
    "### 1. Lambda function\n",
    "### 2. Filter function\n",
    "### 3. Map function\n",
    "### 4. List Comprehension\n",
    "\n",
    "  ###  => Check if the string starts with a particular letter.\n",
    "  ###  => Check if the string is numeric.\n",
    "  ###  => Sort a list of tuples having fruit names and their quantity. [(\"mango\",99),(\"orange\",80), (\"grapes\", 1000)]\n",
    "  ###  => Find the squares of numbers from 1 to 10.\n",
    "  ###  => Find the cube root of numbers from 1 to 10.\n",
    "  ###  => Check if a given number is even.\n",
    "  ###  => Filter odd numbers from the given list. [1,2,3,4,5,6,7,8,9,10]\n",
    "  ###  => Sort a list of integers into positive and negative integers lists. [1,2,3,4,5,6,-1,-2,-3,-4,-5,0]"
   ]
  },
  {
   "cell_type": "code",
   "execution_count": 11,
   "id": "f9b8b510",
   "metadata": {},
   "outputs": [
    {
     "name": "stdout",
     "output_type": "stream",
     "text": [
      "['banana']\n"
     ]
    }
   ],
   "source": [
    "# Check if the string starts with a particular letter.\n",
    "# Using list comprehension.\n",
    "\n",
    "str = [\"apple\", \"mango\", \"banana\", \"grapes\"]\n",
    "l = \"b\"\n",
    "res = [s for s in str if s.startswith(l)]\n",
    "print(res)\n"
   ]
  },
  {
   "cell_type": "code",
   "execution_count": 29,
   "id": "4f896b73",
   "metadata": {},
   "outputs": [
    {
     "name": "stdout",
     "output_type": "stream",
     "text": [
      "['123', '456', '789']\n"
     ]
    }
   ],
   "source": [
    "# Check if the string is numeric.\n",
    "# Using lambda function and filter.\n",
    "\n",
    "str = [\"123\", \"abc\", \"456\", \"789\", \"xyz\"]\n",
    "res = list(filter(lambda s: s.isnumeric(), str))\n",
    "print(res)\n"
   ]
  },
  {
   "cell_type": "code",
   "execution_count": 30,
   "id": "6e559ea3",
   "metadata": {},
   "outputs": [
    {
     "name": "stdout",
     "output_type": "stream",
     "text": [
      "[('orange', 80), ('mango', 99), ('grapes', 1000)]\n"
     ]
    }
   ],
   "source": [
    "# Sort a list of tuples having fruit names and their quantity. [(\"mango\", 99), (\"orange\", 80), (\"grapes\", 1000)]\n",
    "# Using lambda function and sort.\n",
    "\n",
    "fruits = [(\"mango\", 99), (\"orange\", 80), (\"grapes\", 1000)]\n",
    "fruitsSorted = sorted(fruits, key=lambda x: x[1])\n",
    "print(fruitsSorted)\n"
   ]
  },
  {
   "cell_type": "code",
   "execution_count": 31,
   "id": "5d2d73a4",
   "metadata": {},
   "outputs": [
    {
     "data": {
      "text/plain": [
       "[1, 4, 9, 16, 25, 36, 49, 64, 81, 100]"
      ]
     },
     "execution_count": 31,
     "metadata": {},
     "output_type": "execute_result"
    }
   ],
   "source": [
    "# Find the squares of numbers from 1 to 10.\n",
    "# Using lambda function and map.\n",
    "\n",
    "list(map(lambda x : x*x, range(1, 11)))"
   ]
  },
  {
   "cell_type": "code",
   "execution_count": 32,
   "id": "ebf08f79",
   "metadata": {},
   "outputs": [
    {
     "data": {
      "text/plain": [
       "[1.0,\n",
       " 1.2599210498948732,\n",
       " 1.4422495703074083,\n",
       " 1.5874010519681994,\n",
       " 1.7099759466766968,\n",
       " 1.8171205928321397,\n",
       " 1.912931182772389,\n",
       " 2.0,\n",
       " 2.080083823051904,\n",
       " 2.154434690031884]"
      ]
     },
     "execution_count": 32,
     "metadata": {},
     "output_type": "execute_result"
    }
   ],
   "source": [
    "#Find the cube root of numbers from 1 to 10.\n",
    "# Using lambda function and map.\n",
    "\n",
    "list(map(lambda x : x**(1/3), range(1, 11)))"
   ]
  },
  {
   "cell_type": "code",
   "execution_count": 33,
   "id": "9e8432b0",
   "metadata": {},
   "outputs": [
    {
     "name": "stdout",
     "output_type": "stream",
     "text": [
      "[2, 4, 6, 8, 10]\n"
     ]
    }
   ],
   "source": [
    "# Check if a given number is even.\n",
    "# Using lambda function and filter.\n",
    "\n",
    "num = [1, 2, 3, 4, 5, 6, 7, 8, 9, 10]\n",
    "even_num = list(filter(lambda x: x % 2 == 0, num))\n",
    "print(even_num)\n"
   ]
  },
  {
   "cell_type": "code",
   "execution_count": 35,
   "id": "7315d37e",
   "metadata": {},
   "outputs": [
    {
     "name": "stdout",
     "output_type": "stream",
     "text": [
      "[1, 3, 5, 7, 9]\n"
     ]
    }
   ],
   "source": [
    "# Filter odd numbers from the given list. [1,2,3,4,5,6,7,8,9,10]\n",
    "# Using list comprehension\n",
    "\n",
    "num = [1, 2, 3, 4, 5, 6, 7, 8, 9, 10]\n",
    "odd_num = [x for x in num if x % 2 != 0]\n",
    "print(odd_num)"
   ]
  },
  {
   "cell_type": "code",
   "execution_count": 37,
   "id": "4b1dbe42",
   "metadata": {},
   "outputs": [
    {
     "name": "stdout",
     "output_type": "stream",
     "text": [
      "[1, 2, 3, 4, 5, 6]\n",
      "[-1, -2, -3, -4, -5]\n"
     ]
    }
   ],
   "source": [
    "# Sort a list of integers into positive and negative integers lists. [1,2,3,4,5,6,-1,-2,-3,-4,-5,0]\n",
    "# Using lambda function, filter and list comprehension\n",
    "\n",
    "num = [1, 2, 3, 4, 5, 6, -1, -2, -3, -4, -5, 0]\n",
    "positive_num = [x for x in num if x > 0]\n",
    "negative_num = list(filter(lambda x: x < 0, num))\n",
    "print(positive_num)\n",
    "print(negative_num)\n"
   ]
  }
 ],
 "metadata": {
  "kernelspec": {
   "display_name": "Python 3 (ipykernel)",
   "language": "python",
   "name": "python3"
  },
  "language_info": {
   "codemirror_mode": {
    "name": "ipython",
    "version": 3
   },
   "file_extension": ".py",
   "mimetype": "text/x-python",
   "name": "python",
   "nbconvert_exporter": "python",
   "pygments_lexer": "ipython3",
   "version": "3.9.13"
  }
 },
 "nbformat": 4,
 "nbformat_minor": 5
}
