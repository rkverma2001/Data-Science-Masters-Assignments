{
 "cells": [
  {
   "cell_type": "markdown",
   "id": "cf74d740",
   "metadata": {},
   "source": [
    "### 1. Which keyword is used to create a function? Create a function to return a list of odd numbers in the range of 1 to 25."
   ]
  },
  {
   "cell_type": "markdown",
   "id": "b576cbc3",
   "metadata": {},
   "source": [
    "#### Ans. 'def' keyword is used to create a functions in python."
   ]
  },
  {
   "cell_type": "code",
   "execution_count": 6,
   "id": "eeecb9af",
   "metadata": {},
   "outputs": [
    {
     "name": "stdout",
     "output_type": "stream",
     "text": [
      "[1, 3, 5, 7, 9, 11, 13, 15, 17, 19, 21, 23, 25]\n"
     ]
    }
   ],
   "source": [
    "def oddNumbers():\n",
    "    lst = []\n",
    "    for i in range(1, 26):\n",
    "        if i % 2 != 0:\n",
    "            lst.append(i)\n",
    "    return lst\n",
    "\n",
    "ans = oddNumbers()\n",
    "print(ans)"
   ]
  },
  {
   "cell_type": "markdown",
   "id": "5fc4e12b",
   "metadata": {},
   "source": [
    "## 2. Why *args and **kwargs is used in some functions? Create a function each for *args and **kwargs to demonstrate their use."
   ]
  },
  {
   "cell_type": "markdown",
   "id": "09627b4a",
   "metadata": {},
   "source": [
    "#### Ans. The terms \"args\" and \"*kwargs\" are used in Python because these allows a function to accept arbitrary number of arguments.\n",
    "\n",
    "#### (a) \"*args\" is used to pass a variable number of non-keyword arguments to a function. The  \" * \"  before the parameter tells Python to treat all the positional arguments as a tuple named args. This means that inside the function, we can access the values passed in args using indexing.\n",
    "\n",
    "#### Ex:"
   ]
  },
  {
   "cell_type": "code",
   "execution_count": 4,
   "id": "6bd4532b",
   "metadata": {},
   "outputs": [],
   "source": [
    "def func1(*args):\n",
    "    for arg in args:\n",
    "        print(arg)"
   ]
  },
  {
   "cell_type": "code",
   "execution_count": 5,
   "id": "f12a1174",
   "metadata": {},
   "outputs": [
    {
     "name": "stdout",
     "output_type": "stream",
     "text": [
      "hello\n",
      "world\n",
      "123\n"
     ]
    }
   ],
   "source": [
    "func1('hello', 'world', 123)"
   ]
  },
  {
   "cell_type": "markdown",
   "id": "9d8d4f53",
   "metadata": {},
   "source": [
    "#### (b) \"**kwargs\" is used to pass a variable number of keyword arguments to a function. The \" * * \" before the parameter name tells Python to treat all the keyword arguments as a dictionary named kwargs. This means that inside the function, we can access the values passed in kwargs using dictionary-like key-value access.\n",
    "\n",
    "#### Ex.\n"
   ]
  },
  {
   "cell_type": "code",
   "execution_count": 2,
   "id": "48eea0c7",
   "metadata": {},
   "outputs": [],
   "source": [
    "def func2(**kwargs):\n",
    "    for key, value in kwargs.items():\n",
    "        print(f\"{key}={value}\")"
   ]
  },
  {
   "cell_type": "code",
   "execution_count": 3,
   "id": "6d3d95a3",
   "metadata": {},
   "outputs": [
    {
     "name": "stdout",
     "output_type": "stream",
     "text": [
      "name=Alice\n",
      "age=25\n",
      "city=New York\n"
     ]
    }
   ],
   "source": [
    "func2(name='Alice', age=25, city='New York')"
   ]
  },
  {
   "cell_type": "markdown",
   "id": "289084dc",
   "metadata": {},
   "source": [
    "#### Using args and kwargs, we can make our code more flexible and reusable, as we can pass different numbers of arguments and keyword arguments to the same function without having to define new functions for each combination of arguments."
   ]
  },
  {
   "cell_type": "markdown",
   "id": "cd9e403f",
   "metadata": {},
   "source": [
    "## 3. What is an iterator in python? Name the method used to initialise the iterator object and the method used for iteration. Use these methods to print the first five elements of the given list[2, 4, 6, 8, 10, 12, 14, 16, 18, 20]."
   ]
  },
  {
   "cell_type": "markdown",
   "id": "bbcaa8b0",
   "metadata": {},
   "source": [
    "#### Ans. In Python, an iterator is an object that can be iterated upon, meaning that we can traverse through all the values.\n",
    "#### An iterator object can be initialise using the iter() method.\n",
    "#### Once we have an iterator object, we can use the next() method to iterate over the elements.\n",
    "\n"
   ]
  },
  {
   "cell_type": "code",
   "execution_count": 4,
   "id": "5a74bbd0",
   "metadata": {},
   "outputs": [
    {
     "name": "stdout",
     "output_type": "stream",
     "text": [
      "2\n",
      "4\n",
      "6\n",
      "8\n",
      "10\n"
     ]
    }
   ],
   "source": [
    "lst = [2, 4, 6, 8, 10, 12, 14, 16, 18, 20]\n",
    "iterator = iter(my_list)\n",
    "\n",
    "for i in range(5):\n",
    "    print(next(iterator))"
   ]
  },
  {
   "cell_type": "markdown",
   "id": "c83a69ab",
   "metadata": {},
   "source": [
    "## 4. What is a generator function in python? Why yield keyword is used? Give an example of a generator function."
   ]
  },
  {
   "cell_type": "markdown",
   "id": "2afd6ea8",
   "metadata": {},
   "source": [
    "#### Ans. A generator function is a special type of function that returns an iterator object, which can be iterated over using the next() method. Unlike regular functions that execute and return a value, generator functions use the yield keyword to temporarily suspend the execution of the function and return a value to the caller. When the function is called again, it resumes execution from where it left off and continues until the next yield statement is encountered.\n",
    "\n",
    "#### The yield keyword is used to define the values that the generator function will return. When the function is called, it doesn't execute the entire function at once, but instead, it only runs until it reaches the first yield statement. The value of the yield statement is then returned to the caller, and the function is paused until the next call to next() is made on the generator object.\n",
    "\n",
    "#### Ex."
   ]
  },
  {
   "cell_type": "code",
   "execution_count": 6,
   "id": "7c6d750d",
   "metadata": {},
   "outputs": [
    {
     "name": "stdout",
     "output_type": "stream",
     "text": [
      "0\n",
      "1\n",
      "2\n",
      "3\n",
      "4\n"
     ]
    }
   ],
   "source": [
    "def number_generator(n):\n",
    "    for i in range(n):\n",
    "        yield i\n",
    "\n",
    "# Create a generator object\n",
    "generator = number_generator(5)\n",
    "\n",
    "# Iterate over the generator object using the next() method\n",
    "print(next(generator))\n",
    "print(next(generator))\n",
    "print(next(generator))\n",
    "print(next(generator))\n",
    "print(next(generator))"
   ]
  },
  {
   "cell_type": "markdown",
   "id": "d1ddc851",
   "metadata": {},
   "source": [
    "#### In the above example, we define a generator function number_generator() that takes an argument n and generates a sequence of numbers from 0 to n-1 using a for loop and the yield keyword. We then create a generator object generator by calling the number_generator() function with an argument of 5.\n",
    "\n",
    "#### We then use the next() method to iterate over the generator object and print the first five values. As we call next() on the generator object, the function resumes execution from where it left off and returns the next value in the sequence until all values have been generated."
   ]
  },
  {
   "cell_type": "markdown",
   "id": "f710a943",
   "metadata": {},
   "source": [
    "## 5. Create a generator function for prime numbers less than 1000. Use the next() method to print the first 20 prime numbers."
   ]
  },
  {
   "cell_type": "code",
   "execution_count": 8,
   "id": "ee428dab",
   "metadata": {},
   "outputs": [],
   "source": [
    "def prime_generator():\n",
    "    \n",
    "    num = list(range(2, 1000))\n",
    "    \n",
    "    while num:\n",
    "        \n",
    "        prime = num[0]\n",
    "        yield prime\n",
    "        \n",
    "        num = [n for n in num if n % prime != 0]"
   ]
  },
  {
   "cell_type": "code",
   "execution_count": 9,
   "id": "cb2741d5",
   "metadata": {},
   "outputs": [
    {
     "name": "stdout",
     "output_type": "stream",
     "text": [
      "2\n",
      "3\n",
      "5\n",
      "7\n",
      "11\n",
      "13\n",
      "17\n",
      "19\n",
      "23\n",
      "29\n",
      "31\n",
      "37\n",
      "41\n",
      "43\n",
      "47\n",
      "53\n",
      "59\n",
      "61\n",
      "67\n",
      "71\n"
     ]
    }
   ],
   "source": [
    "generator = prime_generator()\n",
    "\n",
    "for i in range(20):\n",
    "    print(next(generator))\n"
   ]
  },
  {
   "cell_type": "code",
   "execution_count": null,
   "id": "09d8aa9e",
   "metadata": {},
   "outputs": [],
   "source": []
  }
 ],
 "metadata": {
  "kernelspec": {
   "display_name": "Python 3 (ipykernel)",
   "language": "python",
   "name": "python3"
  },
  "language_info": {
   "codemirror_mode": {
    "name": "ipython",
    "version": 3
   },
   "file_extension": ".py",
   "mimetype": "text/x-python",
   "name": "python",
   "nbconvert_exporter": "python",
   "pygments_lexer": "ipython3",
   "version": "3.9.13"
  }
 },
 "nbformat": 4,
 "nbformat_minor": 5
}
