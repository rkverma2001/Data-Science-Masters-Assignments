{
 "cells": [
  {
   "cell_type": "markdown",
   "id": "41b5f4d7",
   "metadata": {},
   "source": [
    "## 1. Which keyword is used to create a function? Create a function to return a list of odd numberse in the range of 1 to 25."
   ]
  },
  {
   "cell_type": "markdown",
   "id": "5fc4e12b",
   "metadata": {},
   "source": [
    "## 2. Why *args and **kwargs is used in some functions? Create a function each for *args and **kwargs to demonstrate their use."
   ]
  },
  {
   "cell_type": "markdown",
   "id": "cd9e403f",
   "metadata": {},
   "source": [
    "## 3. What is an iterator in python? Name the method used to initialise the iterator objeect and the method used for iteration. Use these methods to print the first five elements of the given list[2, 4, 6, 8, 10, 12, 14, 16, 18, 20]."
   ]
  },
  {
   "cell_type": "markdown",
   "id": "c83a69ab",
   "metadata": {},
   "source": [
    "## 4. What is a generator function in python? Why yield keyword is used? Give an example of a generator function."
   ]
  },
  {
   "cell_type": "markdown",
   "id": "f710a943",
   "metadata": {},
   "source": [
    "## 5. Create a generator function for prime numbers less than 1000. Use the next() method to print the first 20 prime numbers."
   ]
  }
 ],
 "metadata": {
  "kernelspec": {
   "display_name": "Python 3 (ipykernel)",
   "language": "python",
   "name": "python3"
  },
  "language_info": {
   "codemirror_mode": {
    "name": "ipython",
    "version": 3
   },
   "file_extension": ".py",
   "mimetype": "text/x-python",
   "name": "python",
   "nbconvert_exporter": "python",
   "pygments_lexer": "ipython3",
   "version": "3.9.13"
  }
 },
 "nbformat": 4,
 "nbformat_minor": 5
}
