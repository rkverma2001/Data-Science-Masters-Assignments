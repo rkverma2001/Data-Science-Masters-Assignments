{
 "cells": [
  {
   "cell_type": "markdown",
   "id": "31685039",
   "metadata": {},
   "source": [
    "## 1. What are the characteristics of the tuples? Is tuple immutable? "
   ]
  },
  {
   "cell_type": "markdown",
   "id": "9583d3a5",
   "metadata": {},
   "source": [
    "## 2. What are the two tuple methods in python? Give an example of each method. Give a reason why tuple have only two in-built methods as compared to Lists."
   ]
  },
  {
   "cell_type": "markdown",
   "id": "98cc183f",
   "metadata": {},
   "source": [
    "## 3. Which collection datatypes in python do not allow duplicate items? Write a code using a set to remove duplicates from the given list.\n",
    "## List = [1, 1, 1, 2, 1, 3, 1, 4, 2, 1, 2, 2, 2, 3, 2, 4, 3, 1, 3, 2, 3, 3, 3, 4, 4, 1, 4, 2, 4, 3, 4, 4]"
   ]
  },
  {
   "cell_type": "markdown",
   "id": "6efef559",
   "metadata": {},
   "source": [
    "## 4. Explain the difference between the union() and update() methods for a set. Give an example of each method."
   ]
  },
  {
   "cell_type": "markdown",
   "id": "9806938a",
   "metadata": {},
   "source": [
    "## 5. What is dictionary? Give an example. Also, state whether a dictionary is ordered or unordered."
   ]
  },
  {
   "cell_type": "markdown",
   "id": "ebb55439",
   "metadata": {},
   "source": [
    "## 6. Can we create a nested dictionary? If so, please give an example by creating a simple one-level nested dictionary."
   ]
  },
  {
   "cell_type": "markdown",
   "id": "23f77b65",
   "metadata": {},
   "source": [
    "## 7. Using setdefault() method, create key named topics in the given dictionary and also add the value of the key as this list['Python', 'Machine Learning', 'Deep Learning'].\n",
    "## dict1 = ['language':'Python','course':'Data Science Masters']"
   ]
  },
  {
   "cell_type": "markdown",
   "id": "a0bc8f79",
   "metadata": {},
   "source": [
    "## 8. What are the three view objects in dictionaries? Use the three in-built methods in python to display these three view objects for the given dictionary.\n",
    "## dict1 = { 'Sport':'Cricket','Teams':['India','Australia','England','South Africa','Sri Lanka'.'New Zealand']}"
   ]
  }
 ],
 "metadata": {
  "kernelspec": {
   "display_name": "Python 3 (ipykernel)",
   "language": "python",
   "name": "python3"
  },
  "language_info": {
   "codemirror_mode": {
    "name": "ipython",
    "version": 3
   },
   "file_extension": ".py",
   "mimetype": "text/x-python",
   "name": "python",
   "nbconvert_exporter": "python",
   "pygments_lexer": "ipython3",
   "version": "3.9.13"
  }
 },
 "nbformat": 4,
 "nbformat_minor": 5
}
