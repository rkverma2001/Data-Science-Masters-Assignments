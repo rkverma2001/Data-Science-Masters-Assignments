{
 "cells": [
  {
   "cell_type": "markdown",
   "id": "31685039",
   "metadata": {},
   "source": [
    "## 1. What are the characteristics of the tuples? Is tuple immutable? "
   ]
  },
  {
   "cell_type": "markdown",
   "id": "74c933dd",
   "metadata": {},
   "source": [
    "### In Python programming language, a tuple is an ordered collection of elements that is immutable, meaning it cannot be changed after it is created. Here are some characteristics of tuples:\n",
    "\n",
    "### Ordered: The elements in a tuple are ordered, meaning they have a specific position or index within the tuple.\n",
    "\n",
    "### Immutable: Once a tuple is created, its elements cannot be modified. This means that you cannot add, remove, or change elements in a tuple.\n",
    "\n",
    "### Heterogeneous: A tuple can contain elements of different data types, including integers, floats, strings, and other data structures.\n",
    "\n",
    "### Indexed: Each element in a tuple can be accessed by its index, which starts from 0.\n",
    "\n",
    "### Iterable: A tuple can be used in a loop or other iterable context, such as a list comprehension.\n",
    "\n",
    "### Nestable: Tuples can be nested inside other tuples, allowing for the creation of more complex data structures.\n",
    "\n",
    "### Overall, tuples are useful when you need to store a collection of values that should not be modified once they are created. They are often used to represent fixed data structures, such as the coordinates of a point in space or the RGB values of a color."
   ]
  },
  {
   "cell_type": "markdown",
   "id": "9583d3a5",
   "metadata": {},
   "source": [
    "## 2. What are the two tuple methods in python? Give an example of each method. Give a reason why tuple have only two in-built methods as compared to Lists."
   ]
  },
  {
   "cell_type": "markdown",
   "id": "4618dd94",
   "metadata": {},
   "source": [
    "### In Python, tuples have two in-built methods:\n",
    "\n",
    "### count(): The count() method returns the number of times a specified element appears in a tuple.\n",
    "### Ex:\n",
    "\n",
    "### my_tuple = (1, 2, 3, 2, 4, 2, 5)\n",
    "### count_of_twos = my_tuple.count(2)\n",
    "### print(count_of_twos) # Output: 3\n",
    "\n",
    "### index(): The index() method returns the index of the first occurrence of a specified element in a tuple.\n",
    "### Example:\n",
    "\n",
    "### my_tuple = (1, 2, 3, 2, 4, 2, 5)\n",
    "### index_of_four = my_tuple.index(4)\n",
    "### print(index_of_four) # Output: 4\n",
    "\n",
    "### The reason why tuples have only two built-in methods as compared to lists is that tuples are immutable, while lists are mutable. Because tuples cannot be modified after they are created, there is no need for methods that modify the tuple in-place, such as append(), insert(), or remove(). Therefore, the count() and index() methods are sufficient for working with tuples. In contrast, lists have many built-in methods to modify them, as well as additional methods to sort, search, and manipulate their contents."
   ]
  },
  {
   "cell_type": "markdown",
   "id": "98cc183f",
   "metadata": {},
   "source": [
    "## 3. Which collection datatypes in python do not allow duplicate items? Write a code using a set to remove duplicates from the given list.\n",
    "## List = [1, 1, 1, 2, 1, 3, 1, 4, 2, 1, 2, 2, 2, 3, 2, 4, 3, 1, 3, 2, 3, 3, 3, 4, 4, 1, 4, 2, 4, 3, 4, 4]"
   ]
  },
  {
   "cell_type": "markdown",
   "id": "a8b8182f",
   "metadata": {},
   "source": [
    "### The collection datatype in Python that does not allow duplicate items is  set.\n",
    "\n",
    "### Here's how you can use a set to remove duplicates from the given list:"
   ]
  },
  {
   "cell_type": "code",
   "execution_count": 2,
   "id": "f2eaccd9",
   "metadata": {},
   "outputs": [
    {
     "name": "stdout",
     "output_type": "stream",
     "text": [
      "[1, 2, 3, 4]\n"
     ]
    }
   ],
   "source": [
    "lst = [1, 1, 1, 2, 1, 3, 1, 4, 2, 1, 2, 2, 2, 3, 2, 4, 3, 1, 3, 2, 3, 3, 3, 4, 4, 1, 4, 2, 4, 3, 4, 4]\n",
    "st = set(lst)\n",
    "new_lst = list(st)\n",
    "print(new_lst) # Output: [1, 2, 3, 4]"
   ]
  },
  {
   "cell_type": "markdown",
   "id": "6efef559",
   "metadata": {},
   "source": [
    "## 4. Explain the difference between the union() and update() methods for a set. Give an example of each method."
   ]
  },
  {
   "cell_type": "code",
   "execution_count": null,
   "id": "31507ade",
   "metadata": {},
   "outputs": [],
   "source": [
    "In Python, the union() and update() methods are used to combine two or more sets into a new set. However, these methods differ in how they create the new set and modify the existing set(s).\n",
    "\n",
    "The union() method returns a new set that contains all the unique elements from all the sets that were combined, without modifying the original sets.\n",
    "\n",
    "Example:\n",
    "\n",
    "python\n",
    "Copy code\n",
    "set1 = {1, 2, 3}\n",
    "set2 = {3, 4, 5}\n",
    "set3 = {5, 6, 7}\n",
    "\n",
    "new_set = set1.union(set2, set3)\n",
    "\n",
    "print(new_set) # Output: {1, 2, 3, 4, 5, 6, 7}\n",
    "print(set1) # Output: {1, 2, 3}\n",
    "In the above example, we have three sets set1, set2, and set3. We use the union() method to combine all three sets into a new set new_set. The resulting set contains all the unique elements from all the sets, and the original sets are not modified.\n",
    "\n",
    "On the other hand, the update() method modifies the original set by adding all the unique elements from other sets to the original set.\n",
    "\n",
    "Example:\n",
    "\n",
    "python\n",
    "Copy code\n",
    "set1 = {1, 2, 3}\n",
    "set2 = {3, 4, 5}\n",
    "set3 = {5, 6, 7}\n",
    "\n",
    "set1.update(set2, set3)\n",
    "\n",
    "print(set1) # Output: {1, 2, 3, 4, 5, 6, 7}\n",
    "In the above example, we have three sets set1, set2, and set3. We use the update() method to add all the unique elements from set2 and set3 to set1. The resulting set set1 contains all the unique elements from all three sets.\n",
    "\n",
    "To summarize, the union() method returns a new set without modifying the original sets, while the update() method modifies the original set by adding all the unique elements from other sets to it."
   ]
  },
  {
   "cell_type": "markdown",
   "id": "9806938a",
   "metadata": {},
   "source": [
    "## 5. What is dictionary? Give an example. Also, state whether a dictionary is ordered or unordered."
   ]
  },
  {
   "cell_type": "markdown",
   "id": "ebb55439",
   "metadata": {},
   "source": [
    "## 6. Can we create a nested dictionary? If so, please give an example by creating a simple one-level nested dictionary."
   ]
  },
  {
   "cell_type": "markdown",
   "id": "23f77b65",
   "metadata": {},
   "source": [
    "## 7. Using setdefault() method, create key named topics in the given dictionary and also add the value of the key as this list['Python', 'Machine Learning', 'Deep Learning'].\n",
    "## dict1 = ['language':'Python','course':'Data Science Masters']"
   ]
  },
  {
   "cell_type": "markdown",
   "id": "a0bc8f79",
   "metadata": {},
   "source": [
    "## 8. What are the three view objects in dictionaries? Use the three in-built methods in python to display these three view objects for the given dictionary.\n",
    "## dict1 = { 'Sport':'Cricket','Teams':['India','Australia','England','South Africa','Sri Lanka'.'New Zealand']}"
   ]
  }
 ],
 "metadata": {
  "kernelspec": {
   "display_name": "Python 3 (ipykernel)",
   "language": "python",
   "name": "python3"
  },
  "language_info": {
   "codemirror_mode": {
    "name": "ipython",
    "version": 3
   },
   "file_extension": ".py",
   "mimetype": "text/x-python",
   "name": "python",
   "nbconvert_exporter": "python",
   "pygments_lexer": "ipython3",
   "version": "3.9.13"
  }
 },
 "nbformat": 4,
 "nbformat_minor": 5
}
