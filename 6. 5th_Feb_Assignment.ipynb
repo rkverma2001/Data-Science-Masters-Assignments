{
 "cells": [
  {
   "cell_type": "markdown",
   "id": "2f21edee",
   "metadata": {},
   "source": [
    "### 1. Explain Class and Object with respect to Object-Oriented Programming. Give a suitable example."
   ]
  },
  {
   "cell_type": "markdown",
   "id": "681d4212",
   "metadata": {},
   "source": [
    "#### Ans. \n",
    "#### Class: In object-oriented programming (OOPs), a class is a blueprint or a template for creating objects. It defines the characteristics and behaviors that an object of that class will have. \n",
    "#### Object: An object is an instance of a class. It represents a specific entity or concept and can have its own unique state and behavior based on the class it belongs to.\n",
    "\n",
    "#### We can define a class using the `class` keyword. Within a class, we can define attributes and methods that define the behavior of objects created from that class. \n",
    "\n",
    "#### Ex."
   ]
  },
  {
   "cell_type": "code",
   "execution_count": 11,
   "id": "a6c1a3ed",
   "metadata": {},
   "outputs": [],
   "source": [
    "class Car:\n",
    "    def __init__(self, brand_name, model_name, color):\n",
    "        self.brand_name = brand_name\n",
    "        self.model_name = model_name\n",
    "        self.color = color\n",
    "\n",
    "    def display_information(self):\n",
    "        print(f\"Brand Name: {self.brand_name}\")\n",
    "        print(f\"Model Name: {self.model_name}\")\n",
    "        print(f\"Color: {self.color}\")"
   ]
  },
  {
   "cell_type": "code",
   "execution_count": 12,
   "id": "57f2a5f5",
   "metadata": {},
   "outputs": [],
   "source": [
    "# Creating an objects from the Car class\n",
    "car1 = Car(\"Tesla\", \"Model S\", \"Red\")"
   ]
  },
  {
   "cell_type": "code",
   "execution_count": 13,
   "id": "7cab40c2",
   "metadata": {},
   "outputs": [
    {
     "name": "stdout",
     "output_type": "stream",
     "text": [
      "Brand Name: Tesla\n",
      "Model Name: Model S\n",
      "Color: Red\n"
     ]
    }
   ],
   "source": [
    "# Calling methods\n",
    "car1.display_information()"
   ]
  },
  {
   "cell_type": "code",
   "execution_count": 14,
   "id": "573959e0",
   "metadata": {},
   "outputs": [],
   "source": [
    "car2 = Car(\"BMW\", \"X5\", \"Blue\")"
   ]
  },
  {
   "cell_type": "code",
   "execution_count": 15,
   "id": "ff6d336b",
   "metadata": {},
   "outputs": [
    {
     "name": "stdout",
     "output_type": "stream",
     "text": [
      "Brand Name: BMW\n",
      "Model Name: X5\n",
      "Color: Blue\n"
     ]
    }
   ],
   "source": [
    "car2.display_information()"
   ]
  },
  {
   "cell_type": "markdown",
   "id": "d1c61684",
   "metadata": {},
   "source": [
    "#### In the example above, we define a class called `Car` with attributes like `brand_name`, `model_name` and `color`. The `__init__` method is a special method called a constructor that initializes the object's attributes. The class also has methods like `display_info` to display the car's information.\n",
    "\n",
    "#### We then create two objects, `car1` and `car2`, by calling the class as if it were a function and passing the necessary arguments. We can then access the attributes and call methods of each object independently."
   ]
  },
  {
   "cell_type": "markdown",
   "id": "a757c5db",
   "metadata": {},
   "source": [
    "### 2. Name the four pillars of OOPs. "
   ]
  },
  {
   "cell_type": "markdown",
   "id": "945de29a",
   "metadata": {},
   "source": [
    "#### Ans. The Four OOPs pillars are as follows:\n",
    "#### i. Encapsulation                                                       \n",
    "#### ii. Inheritance\n",
    "#### iii. Polymorphism  \n",
    "#### iv. Abstraction"
   ]
  },
  {
   "cell_type": "markdown",
   "id": "b7c09670",
   "metadata": {},
   "source": [
    "### 3. Explain why the __init__() function is used. Give a suitable example."
   ]
  },
  {
   "cell_type": "markdown",
   "id": "04ab644a",
   "metadata": {},
   "source": [
    "#### Ans. The '__init__()' function is a special method called a constructor that is automatically called when an object is created from the class. It is used to initialize the attributes of the object and perform initialization. It allows us to define and initialize the object's properties at the time of instantiation.\n",
    "\n",
    "#### Ex."
   ]
  },
  {
   "cell_type": "code",
   "execution_count": 16,
   "id": "5ec2d61e",
   "metadata": {},
   "outputs": [],
   "source": [
    "class Person:\n",
    "    def __init__(self, name, age):\n",
    "        self.name = name\n",
    "        self.age = age\n",
    "\n",
    "    def display_information(self):\n",
    "        print(f\"Name: {self.name}\")\n",
    "        print(f\"Age: {self.age}\")"
   ]
  },
  {
   "cell_type": "code",
   "execution_count": 17,
   "id": "a6f93d98",
   "metadata": {},
   "outputs": [
    {
     "name": "stdout",
     "output_type": "stream",
     "text": [
      "Name: John Doe\n",
      "Age: 30\n"
     ]
    }
   ],
   "source": [
    "person1 = Person(\"John Doe\", 30)\n",
    "person1.display_information()"
   ]
  },
  {
   "cell_type": "markdown",
   "id": "2887c601",
   "metadata": {},
   "source": [
    "### 4. Why self is used in OOPs?"
   ]
  },
  {
   "cell_type": "markdown",
   "id": "f77431a2",
   "metadata": {},
   "source": [
    "#### Ans. In object-oriented programming, the self keyword is used as a reference to the instance of a class. It is a convention used in Python to represent the instance on which a method is called or an attribute is accessed. When a method is called on an instance, the self parameter allows the method to access and manipulate the attributes and methods of that specific instance."
   ]
  },
  {
   "cell_type": "markdown",
   "id": "53b27ae5",
   "metadata": {},
   "source": [
    "### 5. What is inheritance? Give an example for each type of inheritance."
   ]
  },
  {
   "cell_type": "markdown",
   "id": "8e60a603",
   "metadata": {},
   "source": [
    "#### Ans. Inheritance is a fundamental concept in object-oriented programming (OOP) that allows a class to inherit attributes and methods from another class. The class that inherits is called the derived class, subclass, or child class, while the class being inherited from is called the base class, superclass, or parent class. Inheritance facilitates code reuse, promotes modularity, and enables the creation of specialized classes based on existing ones.\n",
    "\n",
    "#### There are several types of inheritance in OOP:\n",
    "\n",
    "#### i. Single inheritance: In single inheritance, a derived class inherits from a single base class. It forms a simple hierarchy where the derived class extends the functionality of the base class. \n",
    "#### Ex:"
   ]
  },
  {
   "cell_type": "code",
   "execution_count": 22,
   "id": "be166386",
   "metadata": {},
   "outputs": [],
   "source": [
    "class Animal:\n",
    "    def eat(self):\n",
    "        print(\"Eating.\")\n",
    "\n",
    "class Dog(Animal):\n",
    "    def bark(self):\n",
    "        print(\"Barking.\")"
   ]
  },
  {
   "cell_type": "code",
   "execution_count": 23,
   "id": "42b94c57",
   "metadata": {},
   "outputs": [
    {
     "name": "stdout",
     "output_type": "stream",
     "text": [
      "Eating.\n",
      "Barking.\n"
     ]
    }
   ],
   "source": [
    "dog = Dog()\n",
    "dog.eat()  # Inherited from Animal class\n",
    "dog.bark()"
   ]
  },
  {
   "cell_type": "markdown",
   "id": "e8644d60",
   "metadata": {},
   "source": [
    "#### In the example above, the `Dog` class inherits from the `Animal` class using single inheritance. The `Dog` class inherits the `eat()` method from the `Animal` class, and it also defines its own method `bark()`. The `dog` object can invoke both the inherited `eat()` method and the `bark()` method.\n",
    "\n",
    "#### ii. Multiple inheritance: Multiple inheritance allows a derived class to inherit from multiple base classes. It enables the derived class to inherit attributes and methods from multiple sources. \n",
    "#### Ex:"
   ]
  },
  {
   "cell_type": "code",
   "execution_count": 24,
   "id": "51cff025",
   "metadata": {},
   "outputs": [],
   "source": [
    "class Car:\n",
    "    def drive(self):\n",
    "        print(\"Driving.\")\n",
    "\n",
    "class Boat:\n",
    "    def sail(self):\n",
    "        print(\"Sailing.\")\n",
    "\n",
    "class AmphibiousVehicle(Car, Boat):\n",
    "    pass"
   ]
  },
  {
   "cell_type": "code",
   "execution_count": 25,
   "id": "d5321178",
   "metadata": {},
   "outputs": [
    {
     "name": "stdout",
     "output_type": "stream",
     "text": [
      "Driving.\n",
      "Sailing.\n"
     ]
    }
   ],
   "source": [
    "amphibious = AmphibiousVehicle()\n",
    "amphibious.drive()\n",
    "amphibious.sail()"
   ]
  },
  {
   "cell_type": "markdown",
   "id": "c24937d3",
   "metadata": {},
   "source": [
    "#### In the example above, we have three classes: `Car`, `Boat`, and `AmphibiousVehicle`. The `AmphibiousVehicle` class inherits from both `Car` and `Boat` classes using multiple inheritance. As a result, the `amphibious` object can invoke the `drive()` method inherited from the `Car` class and the `sail()` method inherited from the `Boat` class.\n",
    "\n",
    "#### iii. Multilevel inheritance: Multilevel inheritance involves a chain of inheritance, where a derived class becomes the base class for another derived class. It forms a hierarchical structure.\n",
    "#### Ex:"
   ]
  },
  {
   "cell_type": "code",
   "execution_count": 26,
   "id": "a7742fe1",
   "metadata": {},
   "outputs": [],
   "source": [
    "class Animal:\n",
    "    def eat(self):\n",
    "        print(\"Eating.\")\n",
    "\n",
    "class Mammal(Animal):\n",
    "    def feed_babies(self):\n",
    "        print(\"Feeding babies.\")\n",
    "\n",
    "class Dog(Mammal):\n",
    "    def bark(self):\n",
    "        print(\"Barking.\")"
   ]
  },
  {
   "cell_type": "code",
   "execution_count": 27,
   "id": "6ae6c385",
   "metadata": {},
   "outputs": [
    {
     "name": "stdout",
     "output_type": "stream",
     "text": [
      "Eating.\n",
      "Feeding babies.\n",
      "Barking.\n"
     ]
    }
   ],
   "source": [
    "dog = Dog()\n",
    "dog.eat()         # Inherited from Animal class\n",
    "dog.feed_babies() # Inherited from Mammal class\n",
    "dog.bark()"
   ]
  },
  {
   "cell_type": "markdown",
   "id": "770bcdb0",
   "metadata": {},
   "source": [
    "#### In the example above, we have three classes: `Animal`, `Mammal`, and `Dog`. The `Dog` class inherits from the `Mammal` class, which, in turn, inherits from the `Animal` class. The `Dog` class can access and invoke the `eat()` method inherited from the `Animal` class, the `feed_babies()` method inherited from the `Mammal` class, and its own `bark()` method.\n",
    "\n",
    "#### These examples illustrate the different types of inheritance in OOP."
   ]
  }
 ],
 "metadata": {
  "kernelspec": {
   "display_name": "Python 3 (ipykernel)",
   "language": "python",
   "name": "python3"
  },
  "language_info": {
   "codemirror_mode": {
    "name": "ipython",
    "version": 3
   },
   "file_extension": ".py",
   "mimetype": "text/x-python",
   "name": "python",
   "nbconvert_exporter": "python",
   "pygments_lexer": "ipython3",
   "version": "3.9.13"
  }
 },
 "nbformat": 4,
 "nbformat_minor": 5
}
