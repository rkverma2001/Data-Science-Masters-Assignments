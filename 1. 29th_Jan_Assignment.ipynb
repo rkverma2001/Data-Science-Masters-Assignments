1. Who developed Python programming language?
Ans. Guido van Rossum developed python programming language.

2. Which type of programming does Python support?
Ans. Python is a interpreted programming language. 
     Python supports Object-oriented programming and
     structured programming and many of their features
     support functional programming and aspect-oriented 
     programming (including metaprogramming and metaobjects).
     
3. Is Python case sensitive when dealing with identifiers?
Ans. Yes, Python is a case-sensitive language, i.e., 
     it treats uppercase and lowercase characters differently.
     This applies to identifiers too.
     
4. What is the correct extension of the Python file?
Ans. The correct extension of the Python file is ".py".

5. Is Python code compiled or interpreted?
Ans. Yes, Python code interpreted or compiled.
     As Python is both compiled as well as an interpreted language,
     which means when we run a python code, it is first compiled and 
     then interpreted line by line.
     
6. Name a few blocks of code used to define in Python language?
 Ans. The following are blocks: a module, a function body, and a class definition.
      Each command typed interactively is a block. 
      A script file (a file given as standard input to the interpreter or specified
      as a command line argument to the interpreter) is a code block.
      
7. State a character used to give single-line comments in Python?
Ans. "#" character used to give single-line comments in Python.

8. Mention functions which can help us to find the version of Python that we are currently working on?
Ans. The function sys. version can help us to find the version of python that we are currently        working on.
     It also contains information on the build number and compiler used.
     
9. Python supports the creation of anonymous function at runtime, using a construct called ___.
Ans.  lambda.

10. What does pip stand for Python?
Ans. pip stands for pip Install Packages.

11. Mention a few built-in function in Python.
Ans. Following are the buit-in function in Puthon:
     abs(), all(), any(), ascii(), bin(), bool(), bytes(), chr(), dict(), execute(), filter(),
     hash(), hex(), id(), max(), map(), len(), list(), max(), range(), next(), sum(), type(), 
     etc.
     
12. What is the maximum possible length of an identifier in Python?
Ans. An identifier can have a maximum length of 79 characters in Python.

13. What are the benefits of using Python?
Ans. Python is a versatile and powerful programming language that has a wide range of benefits, some of which include:

     a. Easy to Learn: Python is an easy-to-learn language that has a simple and intuitive syntax, making it a great language for beginners.

     b. Large Community and Libraries: Python has a large and active community, which means there are many resources and libraries available to developers. This makes it easier to find answers to your questions and to develop code faster.

     c. Cross-Platform Compatibility: Python code is compatible with different operating systems, including Windows, Linux, and macOS. This makes it a great language for creating cross-platform applications.

     d. Object-Oriented: Python is an object-oriented language, which means it provides a clean and organized way to write code. This makes it easier to create complex applications and maintain code over time.

     e. Large Standard Library: Python comes with a large standard library that provides modules and functions for a wide range of tasks, including file handling, regular expressions, and networking. This saves time and effort in developing custom code.

     f. Scalability: Python is a scalable language, which means it can handle small projects as well as large-scale enterprise applications. This makes it a versatile language that can be used in a variety of contexts.

     g. Data Science and Machine Learning: Python is widely used in data science and machine learning because it has a large number of libraries and frameworks, such as NumPy, Pandas, and TensorFlow, which make it easy to work with large data sets and perform complex analysis.

     h. Web Development: Python is used for web development, and frameworks like Django and Flask make it easy to create web applications and APIs.

14. How is memory managed in Python?
Ans. Memory management in Python is handled automatically by the Python interpreter. 
     Python uses a technique called garbage collection to manage memory allocation and deallocation.
     
15. How to install Python on Windows and set path variables?
Ans. Here are the steps to install Python on Windows and set path variables:

     a. Download Python: Go to the official Python website at https://www.python.org/downloads/ and download the latest version of Python for Windows.

     b. Run the installer: Once the download is complete, double-click on the downloaded file to run the installer. Follow the on-screen instructions to complete the installation process.

     c. Add Python to PATH: During the installation process, make sure to check the option "Add Python to PATH" in the setup window. This will automatically add Python to your system's PATH environment variable, which is necessary for running Python from the command line.

     d. Verify installation: Open the command prompt and type "python" to verify that Python is installed and running correctly. You should see the Python version information displayed.

     e. Set PATH variables manually (optional): If for some reason the "Add Python to PATH" option was not selected during the installation process, you can manually add Python to your system's PATH environment variable. To do this, go to Control Panel > System and Security > System > Advanced system settings > Environment Variables. Under "System Variables", find the "Path" variable and click "Edit". Add the path to the Python installation directory (usually C:\PythonXX\bin) to the list of paths, separated by a semicolon (;). Click "OK" to save the changes.
     
16. Is indentation required in Python?
Ans. Yes, indentation is required in Python.
