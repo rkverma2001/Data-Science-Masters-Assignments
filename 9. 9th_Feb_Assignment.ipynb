{
 "cells": [
  {
   "cell_type": "markdown",
   "id": "9135af1a",
   "metadata": {},
   "source": [
    "### 1. Create a vehicle class with an init method having instance variables as name_of_vehicle, max_speed and average_of_vehicle."
   ]
  },
  {
   "cell_type": "code",
   "execution_count": 1,
   "id": "6d997c87",
   "metadata": {},
   "outputs": [],
   "source": [
    "class vehicle():\n",
    "    def __init__(self, name_of_vehicle, max_speed, average_of_vehicle):\n",
    "        self.name_of_vehicle = name_of_vehicle\n",
    "        self.max_speed = max_speed\n",
    "        self.average_of_vehicle = average_of_vehicle"
   ]
  },
  {
   "cell_type": "markdown",
   "id": "e4cd001e",
   "metadata": {},
   "source": [
    "### 2. Create a child class car from the vehicle class created in Que 1, which will inherit the vehicle class. Create a method named seating_capacity which takes capacity as an argument and returns the name of the vehicle and its seating capacity."
   ]
  },
  {
   "cell_type": "code",
   "execution_count": 2,
   "id": "bcc9e0fa",
   "metadata": {},
   "outputs": [],
   "source": [
    "class car(vehicle):\n",
    "    \n",
    "    def seating_capacity(self, capacity):\n",
    "        self.capacity = capacity\n",
    "        return self.name_of_vehicle, capacity"
   ]
  },
  {
   "cell_type": "code",
   "execution_count": 3,
   "id": "9ff1c145",
   "metadata": {},
   "outputs": [
    {
     "name": "stdout",
     "output_type": "stream",
     "text": [
      "('Toyota', 5)\n"
     ]
    }
   ],
   "source": [
    "car = car(\"Toyota\", 200, 100)\n",
    "print(car.seating_capacity(5))\n"
   ]
  },
  {
   "cell_type": "markdown",
   "id": "c06db334",
   "metadata": {},
   "source": [
    "### 3. What is multiple inheritance? Write a python code to demonstrate multiple inheritance."
   ]
  },
  {
   "cell_type": "markdown",
   "id": "553b856a",
   "metadata": {},
   "source": [
    "#### Ans. Multiple inheritance is a feature in object-oriented programming languages that allows a class to inherit attributes and methods from multiple parent classes. In multiple inheritance, a class can inherit from more than one superclass, acquiring the characteristics and behaviors of all the parent classes.\n",
    "\n",
    "#### Ex."
   ]
  },
  {
   "cell_type": "code",
   "execution_count": 4,
   "id": "657a4562",
   "metadata": {},
   "outputs": [],
   "source": [
    "class A:\n",
    "    def testA(self):\n",
    "        print(\"Method A\")"
   ]
  },
  {
   "cell_type": "code",
   "execution_count": 5,
   "id": "d18944e3",
   "metadata": {},
   "outputs": [],
   "source": [
    "class B:\n",
    "    def testB(self):\n",
    "        print(\"Method B\")"
   ]
  },
  {
   "cell_type": "code",
   "execution_count": 6,
   "id": "4b2bbea3",
   "metadata": {},
   "outputs": [],
   "source": [
    "class C(A, B):\n",
    "    def testC(self):\n",
    "        print(\"Method C\")"
   ]
  },
  {
   "cell_type": "code",
   "execution_count": 7,
   "id": "47523734",
   "metadata": {},
   "outputs": [],
   "source": [
    "c = C()"
   ]
  },
  {
   "cell_type": "code",
   "execution_count": 8,
   "id": "1acc7352",
   "metadata": {},
   "outputs": [
    {
     "name": "stdout",
     "output_type": "stream",
     "text": [
      "Method A\n"
     ]
    }
   ],
   "source": [
    "# Call methods from class A\n",
    "c.testA()"
   ]
  },
  {
   "cell_type": "code",
   "execution_count": 9,
   "id": "4b39ba9b",
   "metadata": {},
   "outputs": [
    {
     "name": "stdout",
     "output_type": "stream",
     "text": [
      "Method B\n"
     ]
    }
   ],
   "source": [
    "# Call methods from class B\n",
    "c.testB()"
   ]
  },
  {
   "cell_type": "code",
   "execution_count": 10,
   "id": "11ed9287",
   "metadata": {},
   "outputs": [
    {
     "name": "stdout",
     "output_type": "stream",
     "text": [
      "Method C\n"
     ]
    }
   ],
   "source": [
    "# Call methods from class C\n",
    "c.testC()"
   ]
  },
  {
   "cell_type": "markdown",
   "id": "7759ad1e",
   "metadata": {},
   "source": [
    "### 4. What are getter and setter in python? Create a class and create a getter and a setter method in this class."
   ]
  },
  {
   "cell_type": "markdown",
   "id": "74a43566",
   "metadata": {},
   "source": [
    "#### Ans. In Python, getters and setters are methods used to access and modify the values of class attributes or properties. They provide a way to encapsulate attribute access and ensure controlled access to the attributes of a class.\n",
    "\n",
    "#### Ex."
   ]
  },
  {
   "cell_type": "code",
   "execution_count": 11,
   "id": "bef35d06",
   "metadata": {},
   "outputs": [],
   "source": [
    "class Person:\n",
    "    def __init__(self, name):\n",
    "        self._name = name\n",
    "\n",
    "    def get_name(self):\n",
    "        return self._name\n",
    "\n",
    "    def set_name(self, new_name):\n",
    "        self._name = new_name"
   ]
  },
  {
   "cell_type": "code",
   "execution_count": 12,
   "id": "24c79cc7",
   "metadata": {},
   "outputs": [],
   "source": [
    "person = Person(\"Ritesh\")"
   ]
  },
  {
   "cell_type": "code",
   "execution_count": 13,
   "id": "ce1a2f5f",
   "metadata": {},
   "outputs": [
    {
     "name": "stdout",
     "output_type": "stream",
     "text": [
      "Ritesh\n"
     ]
    }
   ],
   "source": [
    "print(person.get_name())"
   ]
  },
  {
   "cell_type": "code",
   "execution_count": 14,
   "id": "2ff93609",
   "metadata": {},
   "outputs": [],
   "source": [
    "person.set_name(\"Kumar\")"
   ]
  },
  {
   "cell_type": "code",
   "execution_count": 15,
   "id": "84380456",
   "metadata": {},
   "outputs": [
    {
     "name": "stdout",
     "output_type": "stream",
     "text": [
      "Kumar\n"
     ]
    }
   ],
   "source": [
    "print(person.get_name())"
   ]
  },
  {
   "cell_type": "markdown",
   "id": "288c608d",
   "metadata": {},
   "source": [
    "### 5.What is method overriding in python? Write a python code to demonstrate method overriding."
   ]
  },
  {
   "cell_type": "markdown",
   "id": "3794411e",
   "metadata": {},
   "source": [
    "#### Ans. Method overriding is a feature in object-oriented programming that allows a subclass to provide its own implementation of a method that is already defined in its superclass. By overriding a method, the subclass can customize the behavior of the inherited method according to its specific needs.\n",
    "\n",
    "#### Ex."
   ]
  },
  {
   "cell_type": "code",
   "execution_count": 16,
   "id": "26875de2",
   "metadata": {},
   "outputs": [],
   "source": [
    "class Animal:\n",
    "    def speak(self):\n",
    "        print(\"Animal speaks!\")"
   ]
  },
  {
   "cell_type": "code",
   "execution_count": 17,
   "id": "aded9d16",
   "metadata": {},
   "outputs": [],
   "source": [
    "class Cat(Animal):\n",
    "    def speak(self):\n",
    "        print(\"Meow!\")"
   ]
  },
  {
   "cell_type": "code",
   "execution_count": 18,
   "id": "55f32c0e",
   "metadata": {},
   "outputs": [],
   "source": [
    "class Dog(Animal):\n",
    "    def speak(self):\n",
    "        print(\"Woof!\")"
   ]
  },
  {
   "cell_type": "code",
   "execution_count": 19,
   "id": "867b28e9",
   "metadata": {},
   "outputs": [],
   "source": [
    "animal = Animal()\n",
    "cat = Cat()\n",
    "dog = Dog()"
   ]
  },
  {
   "cell_type": "code",
   "execution_count": 20,
   "id": "8f3e12d4",
   "metadata": {},
   "outputs": [
    {
     "name": "stdout",
     "output_type": "stream",
     "text": [
      "Animal speaks!\n",
      "Meow!\n",
      "Woof!\n"
     ]
    }
   ],
   "source": [
    "animal.speak()\n",
    "cat.speak()\n",
    "dog.speak()"
   ]
  }
 ],
 "metadata": {
  "kernelspec": {
   "display_name": "Python 3 (ipykernel)",
   "language": "python",
   "name": "python3"
  },
  "language_info": {
   "codemirror_mode": {
    "name": "ipython",
    "version": 3
   },
   "file_extension": ".py",
   "mimetype": "text/x-python",
   "name": "python",
   "nbconvert_exporter": "python",
   "pygments_lexer": "ipython3",
   "version": "3.9.13"
  }
 },
 "nbformat": 4,
 "nbformat_minor": 5
}
