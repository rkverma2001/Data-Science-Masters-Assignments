{
 "cells": [
  {
   "cell_type": "markdown",
   "id": "78f31327",
   "metadata": {},
   "source": [
    "### 1. Create a function which will take a list as an argument and return the product of all the numbers after creating a flat list.\n",
    "### Use the below-given list as an argument for your function.\n",
    "\n",
    "### list1 = [1, 2, 3, 4, [44, 55, 66, True], False, (34, 56, 78, 89, 34), {1, 2, 3, 3, 2, 1}, {1:34, \"key2\":[55, 67, 78, 89], 4:(45, 22, 61, 34)}, [56, 'data science'], 'Machine Learning']\n",
    "### Note: you must extract numeric keys and values of the dictionary also."
   ]
  },
  {
   "cell_type": "code",
   "execution_count": 21,
   "id": "bd078fa2",
   "metadata": {},
   "outputs": [],
   "source": [
    "from functools import reduce\n",
    "\n",
    "def product_num(l):\n",
    "    lst = []\n",
    "    for i in l:\n",
    "        if type(i) == int:\n",
    "            lst.append(i)\n",
    "        elif type(i)==list or type(i)==tuple or type(i)==set:\n",
    "            for j in i:\n",
    "                if type(j) == int:\n",
    "                    lst.append(j)\n",
    "        elif type(i) == dict:\n",
    "            for j in i.keys():\n",
    "                if type(j) == int:\n",
    "                    lst.append(j)\n",
    "            for j in i.values():\n",
    "                if type(j) == int:\n",
    "                    lst.append(j)\n",
    "                elif type(j)==list or type(j)==tuple:\n",
    "                    for k in j:\n",
    "                        if type(k) == int:\n",
    "                            lst.append(k)\n",
    "                            \n",
    "    product = reduce(lambda x,y : x*y, lst) \n",
    "    return product"
   ]
  },
  {
   "cell_type": "code",
   "execution_count": 22,
   "id": "04c6b411",
   "metadata": {},
   "outputs": [
    {
     "name": "stdout",
     "output_type": "stream",
     "text": [
      "4134711838987085478833841242112000\n"
     ]
    }
   ],
   "source": [
    "list1 = [1, 2, 3, 4, [44, 55, 66, True], False, (34, 56, 78, 89, 34), {1, 2, 3, 3, 2, 1}, {1:34, \"key2\":[55, 67, 78, 89], 4:(45, 22, 61, 34)}, [56, 'data science'], 'Machine Learning']\n",
    "product = product_num(list1)\n",
    "print(product)"
   ]
  },
  {
   "cell_type": "markdown",
   "id": "a0c76f17",
   "metadata": {},
   "source": [
    "### 2. Write a python program for encrypting a message sent to you by your friend. The logic of encryption should be such that, for a the output should be z. For b, the output should be y. For c, the output should be x respectively. Also, the whitespace should be replaced with a dollar sign. Keep the punctuation marks unchanged.\n",
    "### Input Sentence: I want to become a Data Scientist.\n",
    "### Encrypt the above input sentence using the program you just created.\n",
    "### Note: Convert the given input sentence into lowercase before encrypting. The final output should be lowercase."
   ]
  },
  {
   "cell_type": "code",
   "execution_count": 23,
   "id": "6a32b2f6",
   "metadata": {},
   "outputs": [],
   "source": [
    "def encryption(str):\n",
    "    str1 = \"\"\n",
    "    for i in str.lower():\n",
    "        if i.isalpha():\n",
    "            str1 += chr(ord('a') + (25 - (ord(i) - ord('a'))))\n",
    "        elif char == ' ':\n",
    "            str1 += '$'\n",
    "        else:\n",
    "            str1 += i\n",
    "    return str1"
   ]
  },
  {
   "cell_type": "code",
   "execution_count": 24,
   "id": "35828ed9",
   "metadata": {},
   "outputs": [
    {
     "name": "stdout",
     "output_type": "stream",
     "text": [
      "r$dzmg$gl$yvxlnv$z$wzgz$hxrvmgrhg.\n"
     ]
    }
   ],
   "source": [
    "message = \"I want to become a Data Scientist.\"\n",
    "print(encrypt_message(message))"
   ]
  }
 ],
 "metadata": {
  "kernelspec": {
   "display_name": "Python 3 (ipykernel)",
   "language": "python",
   "name": "python3"
  },
  "language_info": {
   "codemirror_mode": {
    "name": "ipython",
    "version": 3
   },
   "file_extension": ".py",
   "mimetype": "text/x-python",
   "name": "python",
   "nbconvert_exporter": "python",
   "pygments_lexer": "ipython3",
   "version": "3.9.13"
  }
 },
 "nbformat": 4,
 "nbformat_minor": 5
}
